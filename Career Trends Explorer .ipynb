{
 "cells": [
  {
   "cell_type": "raw",
   "id": "3b6babd4-c86d-4768-b4e8-e30edc8df9ef",
   "metadata": {},
   "source": [
    "Career Trends Explorer and Personalized Job Matcher "
   ]
  },
  {
   "cell_type": "code",
   "execution_count": 4,
   "id": "b8a40937-e381-4851-9335-aca3413fb13e",
   "metadata": {},
   "outputs": [],
   "source": [
    "import numpy as np\n",
    "import pandas as pd"
   ]
  },
  {
   "cell_type": "code",
   "execution_count": 5,
   "id": "cd2cd36e-52e5-4a84-812a-0780e9876741",
   "metadata": {},
   "outputs": [],
   "source": [
    "job_df = pd.read_csv(\"Combined_Jobs_Final.csv\")\n"
   ]
  },
  {
   "cell_type": "code",
   "execution_count": 6,
   "id": "fadae8aa-8e3e-4b5a-a899-f6f1032c3cd8",
   "metadata": {},
   "outputs": [
    {
     "data": {
      "text/html": [
       "<div>\n",
       "<style scoped>\n",
       "    .dataframe tbody tr th:only-of-type {\n",
       "        vertical-align: middle;\n",
       "    }\n",
       "\n",
       "    .dataframe tbody tr th {\n",
       "        vertical-align: top;\n",
       "    }\n",
       "\n",
       "    .dataframe thead th {\n",
       "        text-align: right;\n",
       "    }\n",
       "</style>\n",
       "<table border=\"1\" class=\"dataframe\">\n",
       "  <thead>\n",
       "    <tr style=\"text-align: right;\">\n",
       "      <th></th>\n",
       "      <th>Job.ID</th>\n",
       "      <th>Provider</th>\n",
       "      <th>Status</th>\n",
       "      <th>Slug</th>\n",
       "      <th>Title</th>\n",
       "      <th>Position</th>\n",
       "      <th>Company</th>\n",
       "      <th>City</th>\n",
       "      <th>State.Name</th>\n",
       "      <th>State.Code</th>\n",
       "      <th>...</th>\n",
       "      <th>Industry</th>\n",
       "      <th>Job.Description</th>\n",
       "      <th>Requirements</th>\n",
       "      <th>Salary</th>\n",
       "      <th>Listing.Start</th>\n",
       "      <th>Listing.End</th>\n",
       "      <th>Employment.Type</th>\n",
       "      <th>Education.Required</th>\n",
       "      <th>Created.At</th>\n",
       "      <th>Updated.At</th>\n",
       "    </tr>\n",
       "  </thead>\n",
       "  <tbody>\n",
       "    <tr>\n",
       "      <th>0</th>\n",
       "      <td>111</td>\n",
       "      <td>1</td>\n",
       "      <td>open</td>\n",
       "      <td>palo-alto-ca-tacolicious-server</td>\n",
       "      <td>Server @ Tacolicious</td>\n",
       "      <td>Server</td>\n",
       "      <td>Tacolicious</td>\n",
       "      <td>Palo Alto</td>\n",
       "      <td>California</td>\n",
       "      <td>CA</td>\n",
       "      <td>...</td>\n",
       "      <td>Food and Beverages</td>\n",
       "      <td>Tacolicious' first Palo Alto store just opened...</td>\n",
       "      <td>NaN</td>\n",
       "      <td>8.00</td>\n",
       "      <td>NaN</td>\n",
       "      <td>NaN</td>\n",
       "      <td>Part-Time</td>\n",
       "      <td>NaN</td>\n",
       "      <td>2013-03-12 02:08:28 UTC</td>\n",
       "      <td>2014-08-16 15:35:36 UTC</td>\n",
       "    </tr>\n",
       "    <tr>\n",
       "      <th>1</th>\n",
       "      <td>113</td>\n",
       "      <td>1</td>\n",
       "      <td>open</td>\n",
       "      <td>san-francisco-ca-claude-lane-kitchen-staff-chef</td>\n",
       "      <td>Kitchen Staff/Chef @ Claude Lane</td>\n",
       "      <td>Kitchen Staff/Chef</td>\n",
       "      <td>Claude Lane</td>\n",
       "      <td>San Francisco</td>\n",
       "      <td>California</td>\n",
       "      <td>CA</td>\n",
       "      <td>...</td>\n",
       "      <td>Food and Beverages</td>\n",
       "      <td>\\r\\n\\r\\nNew French Brasserie in S.F. Financia...</td>\n",
       "      <td>NaN</td>\n",
       "      <td>0.00</td>\n",
       "      <td>NaN</td>\n",
       "      <td>NaN</td>\n",
       "      <td>Part-Time</td>\n",
       "      <td>NaN</td>\n",
       "      <td>2013-04-12 08:36:36 UTC</td>\n",
       "      <td>2014-08-16 15:35:36 UTC</td>\n",
       "    </tr>\n",
       "    <tr>\n",
       "      <th>2</th>\n",
       "      <td>117</td>\n",
       "      <td>1</td>\n",
       "      <td>open</td>\n",
       "      <td>san-francisco-ca-machka-restaurants-corp-barte...</td>\n",
       "      <td>Bartender @ Machka Restaurants Corp.</td>\n",
       "      <td>Bartender</td>\n",
       "      <td>Machka Restaurants Corp.</td>\n",
       "      <td>San Francisco</td>\n",
       "      <td>California</td>\n",
       "      <td>CA</td>\n",
       "      <td>...</td>\n",
       "      <td>Food and Beverages</td>\n",
       "      <td>We are a popular Mediterranean wine bar and re...</td>\n",
       "      <td>NaN</td>\n",
       "      <td>11.00</td>\n",
       "      <td>NaN</td>\n",
       "      <td>NaN</td>\n",
       "      <td>Part-Time</td>\n",
       "      <td>NaN</td>\n",
       "      <td>2013-07-16 09:34:10 UTC</td>\n",
       "      <td>2014-08-16 15:35:37 UTC</td>\n",
       "    </tr>\n",
       "    <tr>\n",
       "      <th>3</th>\n",
       "      <td>121</td>\n",
       "      <td>1</td>\n",
       "      <td>open</td>\n",
       "      <td>brisbane-ca-teriyaki-house-server</td>\n",
       "      <td>Server @ Teriyaki House</td>\n",
       "      <td>Server</td>\n",
       "      <td>Teriyaki House</td>\n",
       "      <td>Brisbane</td>\n",
       "      <td>California</td>\n",
       "      <td>CA</td>\n",
       "      <td>...</td>\n",
       "      <td>Food and Beverages</td>\n",
       "      <td>● Serve food/drinks to customers in a profess...</td>\n",
       "      <td>NaN</td>\n",
       "      <td>10.55</td>\n",
       "      <td>NaN</td>\n",
       "      <td>NaN</td>\n",
       "      <td>Part-Time</td>\n",
       "      <td>NaN</td>\n",
       "      <td>2013-09-04 15:40:30 UTC</td>\n",
       "      <td>2014-08-16 15:35:38 UTC</td>\n",
       "    </tr>\n",
       "    <tr>\n",
       "      <th>4</th>\n",
       "      <td>127</td>\n",
       "      <td>1</td>\n",
       "      <td>open</td>\n",
       "      <td>los-angeles-ca-rosa-mexicano-sunset-kitchen-st...</td>\n",
       "      <td>Kitchen Staff/Chef @ Rosa Mexicano - Sunset</td>\n",
       "      <td>Kitchen Staff/Chef</td>\n",
       "      <td>Rosa Mexicano - Sunset</td>\n",
       "      <td>Los Angeles</td>\n",
       "      <td>California</td>\n",
       "      <td>CA</td>\n",
       "      <td>...</td>\n",
       "      <td>Food and Beverages</td>\n",
       "      <td>Located at the heart of Hollywood, we are one ...</td>\n",
       "      <td>NaN</td>\n",
       "      <td>10.55</td>\n",
       "      <td>NaN</td>\n",
       "      <td>NaN</td>\n",
       "      <td>Part-Time</td>\n",
       "      <td>NaN</td>\n",
       "      <td>2013-07-17 15:26:18 UTC</td>\n",
       "      <td>2014-08-16 15:35:40 UTC</td>\n",
       "    </tr>\n",
       "    <tr>\n",
       "      <th>5</th>\n",
       "      <td>129</td>\n",
       "      <td>1</td>\n",
       "      <td>open</td>\n",
       "      <td>los-altos-ca-mind-of-beauty-day-spa-receptionist</td>\n",
       "      <td>Receptionist @ Mind of Beauty Day Spa</td>\n",
       "      <td>Receptionist</td>\n",
       "      <td>Mind of Beauty Day Spa</td>\n",
       "      <td>Los Altos</td>\n",
       "      <td>California</td>\n",
       "      <td>CA</td>\n",
       "      <td>...</td>\n",
       "      <td>Retail</td>\n",
       "      <td>We are a group of professional massage therapi...</td>\n",
       "      <td>NaN</td>\n",
       "      <td>0.00</td>\n",
       "      <td>NaN</td>\n",
       "      <td>NaN</td>\n",
       "      <td>Part-Time</td>\n",
       "      <td>NaN</td>\n",
       "      <td>2013-03-12 03:01:36 UTC</td>\n",
       "      <td>2014-08-16 15:35:40 UTC</td>\n",
       "    </tr>\n",
       "    <tr>\n",
       "      <th>6</th>\n",
       "      <td>131</td>\n",
       "      <td>1</td>\n",
       "      <td>open</td>\n",
       "      <td>los-angeles-ca-roy-s-woodland-hills-server</td>\n",
       "      <td>Server @ Roy's Woodland Hills</td>\n",
       "      <td>Server</td>\n",
       "      <td>Roy's Woodland Hills</td>\n",
       "      <td>Los Angeles</td>\n",
       "      <td>California</td>\n",
       "      <td>CA</td>\n",
       "      <td>...</td>\n",
       "      <td>Food and Beverages</td>\n",
       "      <td>● Serve food/drinks to customers in a profess...</td>\n",
       "      <td>NaN</td>\n",
       "      <td>8.00</td>\n",
       "      <td>NaN</td>\n",
       "      <td>NaN</td>\n",
       "      <td>Part-Time</td>\n",
       "      <td>NaN</td>\n",
       "      <td>2013-09-27 17:46:47 UTC</td>\n",
       "      <td>2014-08-16 15:36:13 UTC</td>\n",
       "    </tr>\n",
       "    <tr>\n",
       "      <th>7</th>\n",
       "      <td>133</td>\n",
       "      <td>1</td>\n",
       "      <td>open</td>\n",
       "      <td>berkeley-ca-koja-kitchen-driver</td>\n",
       "      <td>Driver @ KoJa Kitchen</td>\n",
       "      <td>Driver</td>\n",
       "      <td>KoJa Kitchen</td>\n",
       "      <td>Berkeley</td>\n",
       "      <td>California</td>\n",
       "      <td>CA</td>\n",
       "      <td>...</td>\n",
       "      <td>Food and Beverages</td>\n",
       "      <td>KoJa Kitchen:\\r\\nPART-TIME LOCAL HELP NEEDED W...</td>\n",
       "      <td>NaN</td>\n",
       "      <td>11.00</td>\n",
       "      <td>NaN</td>\n",
       "      <td>NaN</td>\n",
       "      <td>Part-Time</td>\n",
       "      <td>NaN</td>\n",
       "      <td>2013-05-15 01:58:55 UTC</td>\n",
       "      <td>2014-08-16 15:35:41 UTC</td>\n",
       "    </tr>\n",
       "    <tr>\n",
       "      <th>8</th>\n",
       "      <td>134273</td>\n",
       "      <td>2</td>\n",
       "      <td>open</td>\n",
       "      <td>mendham-nj-king-s-food-markets-assistant-store...</td>\n",
       "      <td>Assistant Store Manager @ King's Food Markets</td>\n",
       "      <td>Assistant Store Manager</td>\n",
       "      <td>King's Food Markets</td>\n",
       "      <td>Mendham</td>\n",
       "      <td>New Jersey</td>\n",
       "      <td>NJ</td>\n",
       "      <td>...</td>\n",
       "      <td>NaN</td>\n",
       "      <td>\\r\\nAssistant Store Manager\\r\\n\\r\\nNow Hiring ...</td>\n",
       "      <td>NaN</td>\n",
       "      <td>NaN</td>\n",
       "      <td>12-05-2014</td>\n",
       "      <td>01-04-2015</td>\n",
       "      <td>Part-Time</td>\n",
       "      <td>Not Specified</td>\n",
       "      <td>2014-12-05 16:55:06 UTC</td>\n",
       "      <td>2014-12-05 16:55:06 UTC</td>\n",
       "    </tr>\n",
       "    <tr>\n",
       "      <th>9</th>\n",
       "      <td>134274</td>\n",
       "      <td>2</td>\n",
       "      <td>open</td>\n",
       "      <td>onalaska-wi-aldi-store-associate-retail-sales-...</td>\n",
       "      <td>Store Associate - Retail Sales (Customer Servi...</td>\n",
       "      <td>Store Associate - Retail Sales (Customer Service)</td>\n",
       "      <td>ALDI</td>\n",
       "      <td>Onalaska</td>\n",
       "      <td>Wisconsin</td>\n",
       "      <td>WI</td>\n",
       "      <td>...</td>\n",
       "      <td>NaN</td>\n",
       "      <td>Hiring Event Details\\r\\nStore Associate\\r\\n\\r\\...</td>\n",
       "      <td>NaN</td>\n",
       "      <td>NaN</td>\n",
       "      <td>12-05-2014</td>\n",
       "      <td>01-04-2015</td>\n",
       "      <td>Full-Time/Part-Time</td>\n",
       "      <td>High School Diploma</td>\n",
       "      <td>2014-12-05 16:55:07 UTC</td>\n",
       "      <td>2014-12-05 16:55:07 UTC</td>\n",
       "    </tr>\n",
       "  </tbody>\n",
       "</table>\n",
       "<p>10 rows × 23 columns</p>\n",
       "</div>"
      ],
      "text/plain": [
       "   Job.ID  Provider Status                                               Slug  \\\n",
       "0     111         1   open                    palo-alto-ca-tacolicious-server   \n",
       "1     113         1   open    san-francisco-ca-claude-lane-kitchen-staff-chef   \n",
       "2     117         1   open  san-francisco-ca-machka-restaurants-corp-barte...   \n",
       "3     121         1   open                  brisbane-ca-teriyaki-house-server   \n",
       "4     127         1   open  los-angeles-ca-rosa-mexicano-sunset-kitchen-st...   \n",
       "5     129         1   open   los-altos-ca-mind-of-beauty-day-spa-receptionist   \n",
       "6     131         1   open         los-angeles-ca-roy-s-woodland-hills-server   \n",
       "7     133         1   open                    berkeley-ca-koja-kitchen-driver   \n",
       "8  134273         2   open  mendham-nj-king-s-food-markets-assistant-store...   \n",
       "9  134274         2   open  onalaska-wi-aldi-store-associate-retail-sales-...   \n",
       "\n",
       "                                               Title  \\\n",
       "0                               Server @ Tacolicious   \n",
       "1                   Kitchen Staff/Chef @ Claude Lane   \n",
       "2               Bartender @ Machka Restaurants Corp.   \n",
       "3                            Server @ Teriyaki House   \n",
       "4        Kitchen Staff/Chef @ Rosa Mexicano - Sunset   \n",
       "5              Receptionist @ Mind of Beauty Day Spa   \n",
       "6                      Server @ Roy's Woodland Hills   \n",
       "7                              Driver @ KoJa Kitchen   \n",
       "8      Assistant Store Manager @ King's Food Markets   \n",
       "9  Store Associate - Retail Sales (Customer Servi...   \n",
       "\n",
       "                                            Position  \\\n",
       "0                                             Server   \n",
       "1                                 Kitchen Staff/Chef   \n",
       "2                                          Bartender   \n",
       "3                                             Server   \n",
       "4                                 Kitchen Staff/Chef   \n",
       "5                                       Receptionist   \n",
       "6                                             Server   \n",
       "7                                             Driver   \n",
       "8                            Assistant Store Manager   \n",
       "9  Store Associate - Retail Sales (Customer Service)   \n",
       "\n",
       "                    Company           City  State.Name State.Code  ...  \\\n",
       "0               Tacolicious      Palo Alto  California         CA  ...   \n",
       "1               Claude Lane  San Francisco  California         CA  ...   \n",
       "2  Machka Restaurants Corp.  San Francisco  California         CA  ...   \n",
       "3            Teriyaki House       Brisbane  California         CA  ...   \n",
       "4    Rosa Mexicano - Sunset    Los Angeles  California         CA  ...   \n",
       "5    Mind of Beauty Day Spa      Los Altos  California         CA  ...   \n",
       "6      Roy's Woodland Hills    Los Angeles  California         CA  ...   \n",
       "7              KoJa Kitchen       Berkeley  California         CA  ...   \n",
       "8       King's Food Markets        Mendham  New Jersey         NJ  ...   \n",
       "9                      ALDI       Onalaska   Wisconsin         WI  ...   \n",
       "\n",
       "             Industry                                    Job.Description  \\\n",
       "0  Food and Beverages  Tacolicious' first Palo Alto store just opened...   \n",
       "1  Food and Beverages   \\r\\n\\r\\nNew French Brasserie in S.F. Financia...   \n",
       "2  Food and Beverages  We are a popular Mediterranean wine bar and re...   \n",
       "3  Food and Beverages   ● Serve food/drinks to customers in a profess...   \n",
       "4  Food and Beverages  Located at the heart of Hollywood, we are one ...   \n",
       "5              Retail  We are a group of professional massage therapi...   \n",
       "6  Food and Beverages   ● Serve food/drinks to customers in a profess...   \n",
       "7  Food and Beverages  KoJa Kitchen:\\r\\nPART-TIME LOCAL HELP NEEDED W...   \n",
       "8                 NaN  \\r\\nAssistant Store Manager\\r\\n\\r\\nNow Hiring ...   \n",
       "9                 NaN  Hiring Event Details\\r\\nStore Associate\\r\\n\\r\\...   \n",
       "\n",
       "   Requirements Salary Listing.Start  Listing.End      Employment.Type  \\\n",
       "0           NaN   8.00           NaN          NaN            Part-Time   \n",
       "1           NaN   0.00           NaN          NaN            Part-Time   \n",
       "2           NaN  11.00           NaN          NaN            Part-Time   \n",
       "3           NaN  10.55           NaN          NaN            Part-Time   \n",
       "4           NaN  10.55           NaN          NaN            Part-Time   \n",
       "5           NaN   0.00           NaN          NaN            Part-Time   \n",
       "6           NaN   8.00           NaN          NaN            Part-Time   \n",
       "7           NaN  11.00           NaN          NaN            Part-Time   \n",
       "8           NaN    NaN    12-05-2014   01-04-2015            Part-Time   \n",
       "9           NaN    NaN    12-05-2014   01-04-2015  Full-Time/Part-Time   \n",
       "\n",
       "    Education.Required               Created.At               Updated.At  \n",
       "0                  NaN  2013-03-12 02:08:28 UTC  2014-08-16 15:35:36 UTC  \n",
       "1                  NaN  2013-04-12 08:36:36 UTC  2014-08-16 15:35:36 UTC  \n",
       "2                  NaN  2013-07-16 09:34:10 UTC  2014-08-16 15:35:37 UTC  \n",
       "3                  NaN  2013-09-04 15:40:30 UTC  2014-08-16 15:35:38 UTC  \n",
       "4                  NaN  2013-07-17 15:26:18 UTC  2014-08-16 15:35:40 UTC  \n",
       "5                  NaN  2013-03-12 03:01:36 UTC  2014-08-16 15:35:40 UTC  \n",
       "6                  NaN  2013-09-27 17:46:47 UTC  2014-08-16 15:36:13 UTC  \n",
       "7                  NaN  2013-05-15 01:58:55 UTC  2014-08-16 15:35:41 UTC  \n",
       "8        Not Specified  2014-12-05 16:55:06 UTC  2014-12-05 16:55:06 UTC  \n",
       "9  High School Diploma  2014-12-05 16:55:07 UTC  2014-12-05 16:55:07 UTC  \n",
       "\n",
       "[10 rows x 23 columns]"
      ]
     },
     "execution_count": 6,
     "metadata": {},
     "output_type": "execute_result"
    }
   ],
   "source": [
    "job_df.head(10)"
   ]
  },
  {
   "cell_type": "code",
   "execution_count": 7,
   "id": "9696bde5-615b-45fa-b1e5-31ea36aa5065",
   "metadata": {},
   "outputs": [
    {
     "name": "stdout",
     "output_type": "stream",
     "text": [
      "84090\n",
      "84090\n"
     ]
    }
   ],
   "source": [
    "print(len(job_df))\n",
    "job_df = job_df[['Status', 'Title', 'Position', 'Company', 'Job.Description']]\n",
    "print(len(job_df))"
   ]
  },
  {
   "cell_type": "code",
   "execution_count": 8,
   "id": "f043d78b-4b23-4147-acea-46d674dcccd6",
   "metadata": {},
   "outputs": [
    {
     "data": {
      "text/plain": [
       "(84090, 5)"
      ]
     },
     "execution_count": 8,
     "metadata": {},
     "output_type": "execute_result"
    }
   ],
   "source": [
    "job_df.shape\n"
   ]
  },
  {
   "cell_type": "code",
   "execution_count": 9,
   "id": "fa350a3a-74b2-4097-8968-69bebd284ef9",
   "metadata": {},
   "outputs": [
    {
     "data": {
      "text/plain": [
       "'Hiring Event Details\\r\\nStore Associate\\r\\n\\r\\n$12.00 / Hour\\r\\nAdditional $1.00 Per Hour For ALL Sunday Shifts!\\r\\n50 Cent Wage Increases Beginning At 6 Months - Up to $13.50 At 2 Years\\r\\n\\r\\nMonday, December 15, 2014\\r\\n9am - 11am\\r\\n\\r\\nALDI\\r\\n3133 Market Place Dr\\r\\nOnalaska, WI 54650\\r\\n\\r\\n&nbsp;\\r\\nFor consideration, please apply in person at the hiring event only. Get started now by downloading our Store Employment Application.\\r\\n\\r\\nStore Associate - Retail Sales ( Customer Service )\\r\\n\\r\\nIf you are a customer service minded individual with a positive and energetic personality and you&rsquo;re interested in working for one of the best-known grocery stores in the nation, join the ALDI family! We are looking for motivated and reliable individuals to serve as a Store Associate. You will serve as the face of ALDI, providing customers with friendly and efficient check-out services. But that&rsquo;s just the beginning. You will also assist the store manager in a variety of roles, from stocking and merchandising our products to monitoring inventory and keeping the store looking clean and inviting. This is also an excellent ground-floor opportunity for you if you are interested in pursuing a management career, as we prefer to promote from within whenever possible. If you are a people person who likes to roll up your sleeves and put in a good day&rsquo;s work, we want to talk with you!\\r\\n\\r\\n\\r\\nStore Associate - Retail Sales ( Customer Service )\\r\\n\\r\\nJob Responsibilities\\r\\n&nbsp;\\r\\nAs a Store Associate, you will be involved in all aspects of keeping the store looking and functioning at its best. First and foremost, of course, you will keep your checkout line moving as quickly and smoothly as possible while ensuring that customers have a pleasant and positive shopping experience. In addition, you will have a variety of other duties throughout the store, which you will perform on an as-needed basis.\\r\\n&nbsp;\\r\\nYour specific duties as a Store Associate will include:\\r\\n&nbsp;\\r\\n\\r\\n    \\r\\n    Providing friendly and informative customer service\\r\\n    \\r\\n    Ringing up customers quickly, efficiently, and with a smile\\r\\n    \\r\\n    Maintaining professional appearance and demeanor at all times\\r\\n    \\r\\n    Making a positive impression on customers to encourage word-of-mouth referrals\\r\\n    \\r\\n    Scanning products\\r\\n    \\r\\n    Conducting cash and inventory control\\r\\n    \\r\\n    Maintaining displays and ensuring that they are kept stocked and up to company standards\\r\\n    \\r\\n    Loading and unloading delivery trucks\\r\\n    \\r\\n    Rotating stock\\r\\n    \\r\\n    Keeping the store clean (floors, registers, bathrooms, etc.)\\r\\n\\r\\n'"
      ]
     },
     "execution_count": 9,
     "metadata": {},
     "output_type": "execute_result"
    }
   ],
   "source": [
    "job_df['Job.Description'][20]"
   ]
  },
  {
   "cell_type": "code",
   "execution_count": 10,
   "id": "5e04a83d-0769-4ec1-b109-c4693174f491",
   "metadata": {},
   "outputs": [
    {
     "data": {
      "text/plain": [
       "Status             0\n",
       "Title              0\n",
       "Position           0\n",
       "Company            0\n",
       "Job.Description    0\n",
       "dtype: int64"
      ]
     },
     "execution_count": 10,
     "metadata": {},
     "output_type": "execute_result"
    }
   ],
   "source": [
    "job_df.isnull().sum()\n",
    "job_df.fillna('',inplace=True)\n",
    "job_df.isnull().sum()"
   ]
  },
  {
   "cell_type": "code",
   "execution_count": 11,
   "id": "b9eb990a-819b-4c0a-8379-c7659b64e18d",
   "metadata": {},
   "outputs": [],
   "source": [
    "job_df = job_df.sample(n=1000,random_state=42)\n"
   ]
  },
  {
   "cell_type": "code",
   "execution_count": 12,
   "id": "f81b7dd0-6333-4569-a00e-c0abf31d3bff",
   "metadata": {},
   "outputs": [
    {
     "data": {
      "text/plain": [
       "(1000, 5)"
      ]
     },
     "execution_count": 12,
     "metadata": {},
     "output_type": "execute_result"
    }
   ],
   "source": [
    "job_df.shape\n"
   ]
  },
  {
   "cell_type": "raw",
   "id": "502e4a6d-5b02-4cd5-b2b6-9d6f4e315c12",
   "metadata": {},
   "source": [
    "cleaning dataset"
   ]
  },
  {
   "cell_type": "code",
   "execution_count": 13,
   "id": "a1107b74-273f-46a2-aa6d-38de263db9b2",
   "metadata": {},
   "outputs": [
    {
     "ename": "ModuleNotFoundError",
     "evalue": "No module named 'nltk'",
     "output_type": "error",
     "traceback": [
      "\u001b[1;31m---------------------------------------------------------------------------\u001b[0m",
      "\u001b[1;31mModuleNotFoundError\u001b[0m                       Traceback (most recent call last)",
      "Cell \u001b[1;32mIn[13], line 1\u001b[0m\n\u001b[1;32m----> 1\u001b[0m \u001b[38;5;28;01mimport\u001b[39;00m \u001b[38;5;21;01mnltk\u001b[39;00m \n\u001b[0;32m      2\u001b[0m \u001b[38;5;28;01mfrom\u001b[39;00m \u001b[38;5;21;01mnltk\u001b[39;00m\u001b[38;5;21;01m.\u001b[39;00m\u001b[38;5;21;01mstem\u001b[39;00m \u001b[38;5;28;01mimport\u001b[39;00m PorterStemmer\n\u001b[0;32m      3\u001b[0m \u001b[38;5;28;01mfrom\u001b[39;00m \u001b[38;5;21;01mnltk\u001b[39;00m\u001b[38;5;21;01m.\u001b[39;00m\u001b[38;5;21;01mcorpus\u001b[39;00m \u001b[38;5;28;01mimport\u001b[39;00m stopwords\n",
      "\u001b[1;31mModuleNotFoundError\u001b[0m: No module named 'nltk'"
     ]
    }
   ],
   "source": [
    "import nltk \n",
    "from nltk.stem import PorterStemmer\n",
    "from nltk.corpus import stopwords\n",
    "\n",
    "ps = PorterStemmer()\n",
    "\n",
    "import re "
   ]
  },
  {
   "cell_type": "code",
   "execution_count": 83,
   "id": "4c014c5a-ca88-408c-be59-ebff4bbb0d83",
   "metadata": {},
   "outputs": [],
   "source": [
    "#function \n",
    "def cleaning(text):\n",
    "    cleaned_text = re.sub(r'[^a-ZA-z0-9\\s]','',txt)\n",
    "    tokens = nltk.word_tokenize(cleaned_txt.lower())\n",
    "    stemming = [ps.stem(w) for w in tokens if w not in stopwords.words('english')]\n",
    "    return \" \".join(stemming)\n",
    "    "
   ]
  },
  {
   "cell_type": "code",
   "execution_count": 91,
   "id": "73592082-73e0-4b44-ab98-55320c818eeb",
   "metadata": {},
   "outputs": [],
   "source": [
    "job_df['clean_text'] = job_df['Job.Description']+\" \"+job_df['Title']+job_df['Position']\n"
   ]
  },
  {
   "cell_type": "code",
   "execution_count": 93,
   "id": "4a9c29ff-b606-45a6-8ee1-be7905aca550",
   "metadata": {},
   "outputs": [
    {
     "data": {
      "text/plain": [
       "'Job Summary Knowledge Universe (KU) Site Directors are site leaders who inspire children and teachers alike to learn and grow. They are passionate about educational excellence, and confident teaching children and adults. They use our nationally recognized curriculum as a framework to create unique and engaging classroom experiences. They are committed to making their site successful and know that meaningful relationships with children, families, and their team are important to success. They are fully engaged, enthusiastic about their work, and eager to share their knowledge with others.  Job Responsibilities and Essential Functions These are the basic expectations for Site Directors. Of course, creative and new ways to meet or exceed expectations are encouraged, so long as the required essential functions are also met. •\\xa0\\xa0\\xa0\\xa0\\xa0\\xa0\\xa0\\xa0 supervision of children and staff  •\\xa0\\xa0\\xa0\\xa0\\xa0\\xa0\\xa0\\xa0 record keeping  •\\xa0\\xa0\\xa0\\xa0\\xa0\\xa0\\xa0\\xa0 licensing records and child files  •\\xa0\\xa0\\xa0\\xa0\\xa0\\xa0\\xa0\\xa0 lesson planning and implementation  •\\xa0\\xa0\\xa0\\xa0\\xa0\\xa0\\xa0\\xa0 maintenance of safe and welcoming classroom environment  •\\xa0\\xa0\\xa0\\xa0\\xa0\\xa0\\xa0\\xa0 building of relationships with the community and school  •\\xa0\\xa0\\xa0\\xa0\\xa0\\xa0\\xa0\\xa0 recruiting new students to the program  •\\xa0\\xa0\\xa0\\xa0\\xa0\\xa0\\xa0\\xa0 applicant must have strong organizational skills  Site Director @ Knowledge UniverseSite Director'"
      ]
     },
     "execution_count": 93,
     "metadata": {},
     "output_type": "execute_result"
    }
   ],
   "source": [
    "job_df['clean_text'][64119]"
   ]
  },
  {
   "cell_type": "raw",
   "id": "d124f961-4516-48b9-a713-2783ecc65959",
   "metadata": {},
   "source": [
    "vectorizatoin\n"
   ]
  },
  {
   "cell_type": "code",
   "execution_count": 95,
   "id": "5a96e59f-57b5-4308-b8c7-6e7d2b85fb3c",
   "metadata": {},
   "outputs": [],
   "source": [
    "from sklearn.feature_extraction.text import TfidfVectorizer\n",
    "from sklearn.metrics.pairwise import cosine_similarity"
   ]
  },
  {
   "cell_type": "code",
   "execution_count": 97,
   "id": "a3d3b61c-561a-40b4-8235-c83486cea382",
   "metadata": {},
   "outputs": [],
   "source": [
    "tfidf = TfidfVectorizer(stop_words='english')\n",
    "matrix = tfidf.fit_transform(job_df['clean_text'])\n",
    "similarity = cosine_similarity(matrix)"
   ]
  },
  {
   "cell_type": "code",
   "execution_count": 99,
   "id": "9e6a83ae-bc57-4df4-a551-3daf6603a31c",
   "metadata": {},
   "outputs": [
    {
     "data": {
      "text/plain": [
       "array([[1.        , 0.04316713, 0.01584323, ..., 0.03422459, 0.02355197,\n",
       "        0.05787057],\n",
       "       [0.04316713, 1.        , 0.02349895, ..., 0.02843237, 0.00650416,\n",
       "        0.02200366],\n",
       "       [0.01584323, 0.02349895, 1.        , ..., 0.12147903, 0.11821837,\n",
       "        0.0849148 ],\n",
       "       ...,\n",
       "       [0.03422459, 0.02843237, 0.12147903, ..., 1.        , 0.10231673,\n",
       "        0.0942541 ],\n",
       "       [0.02355197, 0.00650416, 0.11821837, ..., 0.10231673, 1.        ,\n",
       "        0.3645772 ],\n",
       "       [0.05787057, 0.02200366, 0.0849148 , ..., 0.0942541 , 0.3645772 ,\n",
       "        1.        ]])"
      ]
     },
     "execution_count": 99,
     "metadata": {},
     "output_type": "execute_result"
    }
   ],
   "source": [
    "similarity\n"
   ]
  },
  {
   "cell_type": "code",
   "execution_count": 101,
   "id": "537eeee8-63c7-4c0d-b856-d962cbca29ce",
   "metadata": {},
   "outputs": [
    {
     "data": {
      "text/plain": [
       "[(276, 0.9722978191534405),\n",
       " (730, 0.4693455623989403),\n",
       " (81, 0.4536741051836527),\n",
       " (917, 0.4536741051836527),\n",
       " (252, 0.2321621385794393),\n",
       " (128, 0.21034123661514442),\n",
       " (629, 0.16075217918132764),\n",
       " (825, 0.15085839382029043),\n",
       " (360, 0.13948993213260905),\n",
       " (38, 0.13203413350553034),\n",
       " (245, 0.12456254264617572),\n",
       " (326, 0.12128481680479009),\n",
       " (298, 0.11780183176064213),\n",
       " (195, 0.11298471725820088),\n",
       " (284, 0.11217975216761904),\n",
       " (59, 0.1116727653741743),\n",
       " (114, 0.10797827058611761),\n",
       " (254, 0.10562131035812325),\n",
       " (890, 0.10498251733474129)]"
      ]
     },
     "execution_count": 101,
     "metadata": {},
     "output_type": "execute_result"
    }
   ],
   "source": [
    "sorted(list(enumerate(similarity[0])), key=lambda x: x[1], reverse=True)[1:20]\n"
   ]
  },
  {
   "cell_type": "raw",
   "id": "25ddd78b-b8bb-4ee5-a2d4-c6f3eca9052f",
   "metadata": {},
   "source": [
    "Recommendation System"
   ]
  },
  {
   "cell_type": "code",
   "execution_count": 103,
   "id": "ac04affe-009a-406a-9f2e-be70002d3419",
   "metadata": {},
   "outputs": [],
   "source": [
    "def recommend(title):\n",
    "\n",
    "        indx = job_df[job_df['Title'] == title].index[0]\n",
    "        indx = job_df.index.get_loc(indx)\n",
    "        distances = sorted(list(enumerate(similarity[indx])), key=lambda x: x[1], reverse=True)[1:20]\n",
    "\n",
    "        jobs = []\n",
    "        for i in distances:\n",
    "            jobs.append(job_df.iloc[i[0]].Title)\n",
    "        return jobs\n",
    "        "
   ]
  },
  {
   "cell_type": "code",
   "execution_count": 107,
   "id": "3759fe77-4eb1-4f73-813c-f0359e7a5bef",
   "metadata": {},
   "outputs": [],
   "source": [
    "import pickle\n",
    "pickle.dump(job_df,open('df.pkl','wb'))\n",
    "pickle.dump(similarity,open('similarity.pkl','wb'))"
   ]
  },
  {
   "cell_type": "code",
   "execution_count": 109,
   "id": "f0c7b1c6-3f23-43fd-ba0d-d8f192884181",
   "metadata": {},
   "outputs": [
    {
     "name": "stdout",
     "output_type": "stream",
     "text": [
      "2.2.2\n"
     ]
    }
   ],
   "source": [
    "import pandas as pd\n",
    "print(pd.__version__)"
   ]
  },
  {
   "cell_type": "code",
   "execution_count": null,
   "id": "5185db9b-0186-466e-a4ce-f53f44396dbb",
   "metadata": {},
   "outputs": [],
   "source": []
  }
 ],
 "metadata": {
  "kernelspec": {
   "display_name": "Python 3",
   "language": "python",
   "name": "python3"
  },
  "language_info": {
   "codemirror_mode": {
    "name": "ipython",
    "version": 3
   },
   "file_extension": ".py",
   "mimetype": "text/x-python",
   "name": "python",
   "nbconvert_exporter": "python",
   "pygments_lexer": "ipython3",
   "version": "3.13.1"
  }
 },
 "nbformat": 4,
 "nbformat_minor": 5
}
